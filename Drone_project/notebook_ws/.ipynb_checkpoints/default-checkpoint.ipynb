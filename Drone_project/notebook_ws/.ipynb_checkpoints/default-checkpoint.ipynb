{
 "cells": [
  {
   "cell_type": "markdown",
   "metadata": {},
   "source": [
    "## <span style=\"color:#be2d24\">Parrot Drone</span>"
   ]
  },
  {
   "cell_type": "markdown",
   "metadata": {},
   "source": [
    "### <span style=\"color:#be2d24\">About this robot</span>\n",
    "<br>\n",
    "<div>\n",
    "<img src=\"img/sjtu_drone_tc.jpg\" style=\"float:left;max-width:150px;margin:5px;\" />\n",
    "<img src=\"img/ardrone.jpg\" style=\"float:right;max-width:150px;margin:5px;\" />\n",
    "**Parrot Drone** is a quadrotor that has two cameras (front facing and bottom facing), inertial measurement unit and one sonar. The drone estimates its pose and velocities using vision and sonar.\n",
    "</div>"
   ]
  },
  {
   "cell_type": "markdown",
   "metadata": {},
   "source": [
    "### <span style=\"color:#be2d24\">Parrot Drone and ROS</span>\n",
    "The main node of the quadrotor has already implemented some control algorithms, so it is already able to perform a stabilize flight.\n",
    "\n",
    "You can check some functionalities using the topics _/drone/takeoff_ and _/drone/land_ in the sheel:\n",
    "\n",
    "```shell\n",
    "$ rostopic pub /drone/takeoff std_msgs/Empty \"{}\"\n",
    "```\n",
    "\n",
    "Wait it perform the takeoff and land:\n",
    "\n",
    "```shell\n",
    "$ rostopic pub /drone/land std_msgs/Empty \"{}\"\n",
    "```\n",
    "\n",
    "<div style=\"margin-top:10px;background-color:#ffa;padding:5px;\">* Do you have doubts about ROS nodes, topics and messages? Try the [ROS in 5 days course](http://www.robotigniteacademy.com/), it is a good start for non ROS experts.</div>"
   ]
  },
  {
   "cell_type": "markdown",
   "metadata": {},
   "source": [
    "### <span style=\"color:#be2d24\">Practical Example</span>\n",
    "See below how you can send the same commands above but with code. Click on the code cell and press Ctrl+Enter to run it. The robot should takeoff. If you want to land again, just uncomment the last line of the code."
   ]
  },
  {
   "cell_type": "code",
   "execution_count": null,
   "metadata": {
    "collapsed": true
   },
   "outputs": [],
   "source": [
    "#! /usr/bin/env python\n",
    "import rospy\n",
    "from std_msgs.msg import Empty\n",
    "from geometry_msgs.msg import Twist\n",
    "\n",
    "rospy.init_node('my_node')\n",
    "\n",
    "# publishers and data to publish\n",
    "empty = Empty()\n",
    "takeoff = rospy.Publisher('/drone/takeoff', Empty, queue_size=1)\n",
    "# land = rospy.Publisher('/drone/land', Empty, queue_size=1)\n",
    "\n",
    "# takeoff and land\n",
    "takeoff.publish(empty)\n",
    "# land.publish(empty)"
   ]
  },
  {
   "cell_type": "markdown",
   "metadata": {},
   "source": [
    "### <span style=\"color:#be2d24\">Now it is up to you!</span>\n",
    "The **AR.Drone** can be used to explore and create maps of the environment. Using its pose topic and the cameras it is possible to navigate around the scenario or even create actions or services to go to a specific point"
   ]
  },
  {
   "cell_type": "markdown",
   "metadata": {},
   "source": [
    "### <span style=\"color:#be2d24\">Credits</span>\n",
    "Simulation - sjtu_drone(https://bitbucket.org/dannis/sjtu_drone)\n",
    "\n",
    "Robot - Parrot Drone(http://www.parrot.com)"
   ]
  }
 ],
 "metadata": {
  "kernelspec": {
   "display_name": "Python 2",
   "language": "python",
   "name": "python2"
  },
  "language_info": {
   "codemirror_mode": {
    "name": "ipython",
    "version": 2
   },
   "file_extension": ".py",
   "mimetype": "text/x-python",
   "name": "python",
   "nbconvert_exporter": "python",
   "pygments_lexer": "ipython2",
   "version": "2.7.12"
  }
 },
 "nbformat": 4,
 "nbformat_minor": 0
}
